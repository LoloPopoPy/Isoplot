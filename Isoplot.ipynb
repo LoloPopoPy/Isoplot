{
 "cells": [
  {
   "cell_type": "markdown",
   "metadata": {},
   "source": [
    "# Bienvenue dans le Notebook intéractif Isoplot2! Si vous reprennez le notebook après une utilisation précédente, il est conseillé de Clear All Outputs (dans Cell --> all outputs --> clear) pour avoir des outputs vides. \n",
    "# Pour commencer, lancez la cellule ci-dessous pour charger les librairies nécessaires au fonctionnement du Notebook"
   ]
  },
  {
   "cell_type": "code",
   "execution_count": 1,
   "metadata": {},
   "outputs": [],
   "source": [
    "from isoplot.isoplot_notebook_v2 import *"
   ]
  },
  {
   "cell_type": "markdown",
   "metadata": {},
   "source": [
    "## Lancez la cellule ci-dessous pour mettre en ligne les données, puis cliquez sur \"Create Template\". Ceci va générer un fichier de type excell que vous allez pouvoir modifier avec les différentes propriétés tels que condition, time points, ordre des conditions, etc... pour la génération des plots. Se référer au tutoriel pour plus d'infos."
   ]
  },
  {
   "cell_type": "code",
   "execution_count": 2,
   "metadata": {},
   "outputs": [
    {
     "data": {
      "application/vnd.jupyter.widget-view+json": {
       "model_id": "33975c314b284a21a106291323c3e852",
       "version_major": 2,
       "version_minor": 0
      },
      "text/plain": [
       "FileUpload(value={}, description='Upload')"
      ]
     },
     "metadata": {},
     "output_type": "display_data"
    },
    {
     "data": {
      "application/vnd.jupyter.widget-view+json": {
       "model_id": "e3b0bce333b94ee78665f1f207d89dbe",
       "version_major": 2,
       "version_minor": 0
      },
      "text/plain": [
       "Button(description='Create Template', style=ButtonStyle())"
      ]
     },
     "metadata": {},
     "output_type": "display_data"
    },
    {
     "data": {
      "application/vnd.jupyter.widget-view+json": {
       "model_id": "ab4dc98912374b9fbb81860ace46ee20",
       "version_major": 2,
       "version_minor": 0
      },
      "text/plain": [
       "Output()"
      ]
     },
     "metadata": {},
     "output_type": "display_data"
    }
   ],
   "source": [
    "uploader = make_uploader()\n",
    "display(uploader, metadatabtn, out)"
   ]
  },
  {
   "cell_type": "markdown",
   "metadata": {},
   "source": [
    "## Lancez la cellule ci-dessous pour mettre en ligne le template modifié et cliquez sur \"Submit Template\". Ceci va préparer les données pour être plottées et va générer un fichier Data Export.xlsx dans lesquels toutes les informations sur les données utilisées seront publiées."
   ]
  },
  {
   "cell_type": "code",
   "execution_count": 3,
   "metadata": {},
   "outputs": [
    {
     "data": {
      "application/vnd.jupyter.widget-view+json": {
       "model_id": "61ff2502a6f04e1aa7b7a702509491f0",
       "version_major": 2,
       "version_minor": 0
      },
      "text/plain": [
       "FileUpload(value={}, description='Upload')"
      ]
     },
     "metadata": {},
     "output_type": "display_data"
    },
    {
     "data": {
      "application/vnd.jupyter.widget-view+json": {
       "model_id": "d149db3feb1d4ad5bbaa3bf677794385",
       "version_major": 2,
       "version_minor": 0
      },
      "text/plain": [
       "Button(description='Submit Template', style=ButtonStyle())"
      ]
     },
     "metadata": {},
     "output_type": "display_data"
    },
    {
     "data": {
      "application/vnd.jupyter.widget-view+json": {
       "model_id": "9ecf7dddd33444f0a15ac2ec63e35f56",
       "version_major": 2,
       "version_minor": 0
      },
      "text/plain": [
       "Output()"
      ]
     },
     "metadata": {},
     "output_type": "display_data"
    }
   ],
   "source": [
    "mduploader = make_mduploader()\n",
    "display(mduploader, datamerge_btn, out2)"
   ]
  },
  {
   "cell_type": "markdown",
   "metadata": {},
   "source": [
    "## Lancez la cellule ci-dessous pour les plots statiques en individuel (sans moyenner les réplicats)"
   ]
  },
  {
   "cell_type": "code",
   "execution_count": 4,
   "metadata": {},
   "outputs": [
    {
     "data": {
      "application/vnd.jupyter.widget-view+json": {
       "model_id": "b9b9a6faa2a34f468a5c61fa0c966fb6",
       "version_major": 2,
       "version_minor": 0
      },
      "text/plain": [
       "interactive(children=(Checkbox(value=True, description='Stacked barplots'), Dropdown(description='Values:', op…"
      ]
     },
     "metadata": {},
     "output_type": "display_data"
    },
    {
     "data": {
      "text/plain": [
       "<function isoplot.isoplot_notebook_v2.indiplot(stack, value, data, name, metabolites, conditions, times, fmt, stackplot=False)>"
      ]
     },
     "execution_count": 4,
     "metadata": {},
     "output_type": "execute_result"
    }
   ],
   "source": [
    "#Et c'est parti!\n",
    "widgets.interact_manual(\n",
    "indiplot,\n",
    "data = widgets.fixed(vh.dfmerge),\n",
    "stack = widgets.Checkbox(value=True, description='Stacked barplots'),\n",
    "stackplot = widgets.Checkbox(value=False, description='Stacked Areaplot'),\n",
    "value = widgets.Dropdown(options= ['corrected_area', 'isotopologue_fraction', 'mean_enrichment'], value='corrected_area', description = 'Values:'),\n",
    "name = widgets.Text(description='Folder Name:'),\n",
    "fmt = widgets.Dropdown(options=['jpeg', 'png', 'pdf', 'svg',], description = 'Format'),\n",
    "metabolites = widgets.SelectMultiple(options=vh.dfmerge['metabolite'].unique(), description='Metabolite:'),\n",
    "conditions = widgets.SelectMultiple(options=vh.dfmerge['condition'].unique(), description='Conditions:'),\n",
    "times = widgets.SelectMultiple(options=vh.dfmerge['time'].unique(), description='Time points')\n",
    ")"
   ]
  },
  {
   "cell_type": "markdown",
   "metadata": {},
   "source": [
    "## Lancez la cellule ci-dessous pour les plots statiques en moyennant les réplicats(et avec les SD)"
   ]
  },
  {
   "cell_type": "code",
   "execution_count": null,
   "metadata": {},
   "outputs": [],
   "source": [
    "#Et c'est parti!\n",
    "widgets.interact_manual(\n",
    "meanplot,\n",
    "data = widgets.fixed(vh.dfmerge),\n",
    "stack = widgets.Checkbox(value=True, description='Stacked barplots'),\n",
    "value = widgets.Dropdown(options= ['corrected_area', 'isotopologue_fraction', 'mean_enrichment'], value='corrected_area', description = 'Values:'),\n",
    "name = widgets.Text(description='Folder Name:'),\n",
    "fmt = widgets.Dropdown(options=['jpeg', 'png', 'pdf', 'svg',], description = 'Format'),\n",
    "metabolites = widgets.SelectMultiple(options=vh.dfmerge['metabolite'].unique(), description='Metabolite:'),\n",
    "conditions = widgets.SelectMultiple(options=vh.dfmerge['condition'].unique(), description='Conditions:'),\n",
    "times = widgets.SelectMultiple(options=vh.dfmerge['time'].unique(), description='Time points')\n",
    ")"
   ]
  },
  {
   "cell_type": "markdown",
   "metadata": {},
   "source": [
    "## Lancez la cellule ci-dessous pour les plots intéractifs en individuel (sans moyenner les réplicats)"
   ]
  },
  {
   "cell_type": "code",
   "execution_count": 5,
   "metadata": {},
   "outputs": [
    {
     "data": {
      "application/vnd.jupyter.widget-view+json": {
       "model_id": "c7d26670356e45de83d662920a3f20ac",
       "version_major": 2,
       "version_minor": 0
      },
      "text/plain": [
       "interactive(children=(Checkbox(value=True, description='Stacked barplots'), Dropdown(description='Values:', op…"
      ]
     },
     "metadata": {},
     "output_type": "display_data"
    },
    {
     "data": {
      "text/plain": [
       "<function isoplot.isoplot_notebook_v2.indibokplot(stack, value, data, name, metabolites, conditions, times, stackplot=False)>"
      ]
     },
     "execution_count": 5,
     "metadata": {},
     "output_type": "execute_result"
    }
   ],
   "source": [
    "widgets.interact_manual(\n",
    "indibokplot,\n",
    "data = widgets.fixed(vh.dfmerge),\n",
    "stack = widgets.Checkbox(value=True, description='Stacked barplots'),\n",
    "stackplot = widgets.Checkbox(value=False, description='Stacked Areaplot'),\n",
    "value = widgets.Dropdown(options= ['corrected_area', 'isotopologue_fraction', 'mean_enrichment'], value='corrected_area', description = 'Values:'),\n",
    "name = widgets.Text(description='Folder Name:'),\n",
    "metabolites = widgets.SelectMultiple(options=vh.dfmerge['metabolite'].unique(), description='Metabolite:'),\n",
    "conditions = widgets.SelectMultiple(options=vh.dfmerge['condition'].unique(), description='Conditions:'),\n",
    "times = widgets.SelectMultiple(options=vh.dfmerge['time'].unique(), description='Time points')\n",
    ")"
   ]
  },
  {
   "cell_type": "markdown",
   "metadata": {},
   "source": [
    "## Lancez la cellule ci-dessous pour les plots interactifs en moyennant les réplicats(et avec les SD)"
   ]
  },
  {
   "cell_type": "code",
   "execution_count": 4,
   "metadata": {},
   "outputs": [
    {
     "data": {
      "application/vnd.jupyter.widget-view+json": {
       "model_id": "88284879b8954f9484d508962aea28b8",
       "version_major": 2,
       "version_minor": 0
      },
      "text/plain": [
       "interactive(children=(Checkbox(value=True, description='Stacked barplots'), Dropdown(description='Values:', op…"
      ]
     },
     "metadata": {},
     "output_type": "display_data"
    },
    {
     "data": {
      "text/plain": [
       "<function isoplot.isoplot_notebook_v2.meanbokplot(stack, value, data, name, metabolites, conditions, times)>"
      ]
     },
     "execution_count": 4,
     "metadata": {},
     "output_type": "execute_result"
    }
   ],
   "source": [
    "widgets.interact_manual(\n",
    "meanbokplot,\n",
    "data = widgets.fixed(vh.dfmerge),\n",
    "stack = widgets.Checkbox(value=True, description='Stacked barplots'),\n",
    "value = widgets.Dropdown(options= ['corrected_area', 'isotopologue_fraction', 'mean_enrichment'], value='corrected_area', description = 'Values:'),\n",
    "name = widgets.Text(description='Folder Name:'),\n",
    "fmt = 'html',\n",
    "metabolites = widgets.SelectMultiple(options=vh.dfmerge['metabolite'].unique(), description='Metabolite:'),\n",
    "conditions = widgets.SelectMultiple(options=vh.dfmerge['condition'].unique(), description='Conditions:'),\n",
    "times = widgets.SelectMultiple(options=vh.dfmerge['time'].unique(), description='Time points')\n",
    ")"
   ]
  },
  {
   "cell_type": "markdown",
   "metadata": {},
   "source": [
    "## Lancez la cellule ci-dessous pour l'interface de génération des Maps statiques sur les enrichissements moyens"
   ]
  },
  {
   "cell_type": "code",
   "execution_count": 4,
   "metadata": {},
   "outputs": [
    {
     "data": {
      "application/vnd.jupyter.widget-view+json": {
       "model_id": "808a5db0402343b9af25658c533c6bcc",
       "version_major": 2,
       "version_minor": 0
      },
      "text/plain": [
       "interactive(children=(Text(value='', description='File name:'), Dropdown(description='Map:', options=('Static …"
      ]
     },
     "metadata": {},
     "output_type": "display_data"
    },
    {
     "data": {
      "text/plain": [
       "<function isoplot.isoplot_notebook_v2.build_map(data, name, map_select, annot, fmt)>"
      ]
     },
     "execution_count": 4,
     "metadata": {},
     "output_type": "execute_result"
    }
   ],
   "source": [
    "widgets.interact_manual(\n",
    "build_map,\n",
    "data=widgets.fixed(vh.dfmerge),\n",
    "map_select = widgets.Dropdown(options= ['Static heatmap', 'Clustermap', 'Interactive heatmap'], description = 'Map:'),\n",
    "annot = widgets.Checkbox(value=False, description=\"Show values\"),\n",
    "name = widgets.Text(description='File name:'),\n",
    "fmt = widgets.Dropdown(options=['jpeg', 'png', 'pdf', 'svg',], description = 'Format')\n",
    ")\n"
   ]
  }
 ],
 "metadata": {
  "kernelspec": {
   "display_name": "Python 3",
   "language": "python",
   "name": "python3"
  },
  "language_info": {
   "codemirror_mode": {
    "name": "ipython",
    "version": 3
   },
   "file_extension": ".py",
   "mimetype": "text/x-python",
   "name": "python",
   "nbconvert_exporter": "python",
   "pygments_lexer": "ipython3",
   "version": "3.8.5"
  }
 },
 "nbformat": 4,
 "nbformat_minor": 4
}
